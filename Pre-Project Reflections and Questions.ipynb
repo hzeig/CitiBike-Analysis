{
 "cells": [
  {
   "cell_type": "markdown",
   "id": "3542e2b5",
   "metadata": {},
   "source": [
    "## CitiBike Pre-Project Reflections and Questions"
   ]
  },
  {
   "cell_type": "markdown",
   "id": "451cb1d0",
   "metadata": {},
   "source": [
    "Identify the value of shared bikes from the prospect of consumers.\n",
    "- Convenient and affordable mode of transportation\n",
    "- No maintenance or security necessary\n",
    "- Exercise, fresh air\n",
    "\n",
    "Identify the unique value of bike-sharing to the local government (in this case New York City).\n",
    "- Reduce car traffic\n",
    "- Increase subway by providing \"last mile\" option\n",
    "\n",
    "Identify what businesses it is competing with.\n",
    "- JOCO bikes ?\n",
    "- Uber\n",
    "\n",
    "Identify what business benefits from the shared-bike business.\n",
    "- Lyft, CitiBike (for ads)\n",
    "- Metropolitan Transportation Authority (MTA)\n",
    "- Bike/dock/helmet manufacturers\n",
    "- Exercise-related businesses (clothing, food, drinks)\n",
    "\n",
    "Identify its impact on the urban environment and the possible reactions from the local residents.\n",
    "- Decreased road congestion\n",
    "- Possibly increased \n",
    "\n",
    "How does the IT technology affect the bike-sharing business? What is the role of smart-phone app in consumer interaction?\n",
    "- Finding stocked bike dock\n",
    "- Paying (on Lyft or directly to CitiBike)\n",
    "- See ride history info\n",
    "\n",
    "\n",
    "Describe the business model of CitiBike (how does it make money), including its pricing policy for different levels of subscribers, the renter agreement, operation procedure, costs of operating business.\n",
    "\n",
    "**Pricing Policy**\n",
    "- annual (\\$179 USD) - membership\n",
    "- daily (\\$15 USD) - 24 hours\n",
    "- single ride ($3.50 USD) - 30 minues\n",
    "\n",
    "**Business Model Elements**\n",
    "- access over ownership\n",
    "- customer loyalty/membership\n",
    "- apps, CitiBike and with Lyft\n",
    "\n",
    "\n",
    "Identify the sources of losing money: equipment vandalism, theft, equipment aging.\n",
    "- \n",
    "\n",
    "\n",
    "Identify the legal/business ramification due to citibike traffic accidents or deaths.\n",
    "\n",
    "\n",
    "Identify the key objectives (in terms of software infrastructure, equipments hardware, management and idling rates) for the bike-sharing business to run smoothly and profitably. This is very important for operation data scientists because a part of the opertion data scientists' job is to reduce cost and increase profitability in day-to-day operations.\n",
    "\n",
    "\n",
    "How frequent are the Citibike stolen or willingly damaged?\n",
    "\n",
    "\n",
    "How much does Motivate charge the costomers for stolen bikes or failure of returning the biking equipment?\n",
    "\n"
   ]
  },
  {
   "cell_type": "code",
   "execution_count": null,
   "id": "65460260",
   "metadata": {},
   "outputs": [],
   "source": []
  }
 ],
 "metadata": {
  "kernelspec": {
   "display_name": "Python 3",
   "language": "python",
   "name": "python3"
  },
  "language_info": {
   "codemirror_mode": {
    "name": "ipython",
    "version": 3
   },
   "file_extension": ".py",
   "mimetype": "text/x-python",
   "name": "python",
   "nbconvert_exporter": "python",
   "pygments_lexer": "ipython3",
   "version": "3.8.8"
  }
 },
 "nbformat": 4,
 "nbformat_minor": 5
}
