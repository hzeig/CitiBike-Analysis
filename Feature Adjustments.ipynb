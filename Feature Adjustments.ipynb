{
 "cells": [
  {
   "cell_type": "markdown",
   "id": "0d3cc9d0",
   "metadata": {},
   "source": [
    "# Feature Adjustments\n",
    "### Transformation, Selection, Engineering"
   ]
  },
  {
   "cell_type": "markdown",
   "id": "134fd545",
   "metadata": {},
   "source": [
    "#### Load Data"
   ]
  },
  {
   "cell_type": "code",
   "execution_count": 2,
   "id": "eeec2655",
   "metadata": {},
   "outputs": [],
   "source": [
    "import pandas as pd"
   ]
  },
  {
   "cell_type": "code",
   "execution_count": 12,
   "id": "3dfa7618",
   "metadata": {},
   "outputs": [],
   "source": [
    "df = pd.read_parquet('data/201805-citibike-tripdata.parquet') "
   ]
  },
  {
   "cell_type": "code",
   "execution_count": 17,
   "id": "167f207b",
   "metadata": {},
   "outputs": [
    {
     "data": {
      "text/plain": [
       "tripduration      int64\n",
       "starttime        object\n",
       "stoptime         object\n",
       "startID           int64\n",
       "startlat        float64\n",
       "startlon        float64\n",
       "endID             int64\n",
       "endlat          float64\n",
       "endlon          float64\n",
       "bikeid            int64\n",
       "usertype         object\n",
       "userbirth         int64\n",
       "usergender        int64\n",
       "dtype: object"
      ]
     },
     "execution_count": 17,
     "metadata": {},
     "output_type": "execute_result"
    }
   ],
   "source": [
    "df.head()\n",
    "df.dtypes"
   ]
  },
  {
   "cell_type": "code",
   "execution_count": 20,
   "id": "c3674804",
   "metadata": {},
   "outputs": [
    {
     "data": {
      "text/html": [
       "<div>\n",
       "<style scoped>\n",
       "    .dataframe tbody tr th:only-of-type {\n",
       "        vertical-align: middle;\n",
       "    }\n",
       "\n",
       "    .dataframe tbody tr th {\n",
       "        vertical-align: top;\n",
       "    }\n",
       "\n",
       "    .dataframe thead th {\n",
       "        text-align: right;\n",
       "    }\n",
       "</style>\n",
       "<table border=\"1\" class=\"dataframe\">\n",
       "  <thead>\n",
       "    <tr style=\"text-align: right;\">\n",
       "      <th></th>\n",
       "      <th>tripduration</th>\n",
       "      <th>starttime</th>\n",
       "      <th>stoptime</th>\n",
       "      <th>startID</th>\n",
       "      <th>startlat</th>\n",
       "      <th>startlon</th>\n",
       "      <th>endID</th>\n",
       "      <th>endlat</th>\n",
       "      <th>endlon</th>\n",
       "      <th>bikeid</th>\n",
       "      <th>usertype</th>\n",
       "      <th>userbirth</th>\n",
       "      <th>usergender</th>\n",
       "      <th>distance</th>\n",
       "    </tr>\n",
       "  </thead>\n",
       "  <tbody>\n",
       "    <tr>\n",
       "      <th>0</th>\n",
       "      <td>367</td>\n",
       "      <td>2018-05-01 05:06:16.5840</td>\n",
       "      <td>2018-05-01 05:12:23.9650</td>\n",
       "      <td>72</td>\n",
       "      <td>40.767272</td>\n",
       "      <td>-73.993929</td>\n",
       "      <td>514</td>\n",
       "      <td>40.760875</td>\n",
       "      <td>-74.002777</td>\n",
       "      <td>30567</td>\n",
       "      <td>Subscriber</td>\n",
       "      <td>1965</td>\n",
       "      <td>1</td>\n",
       "      <td>0.463048</td>\n",
       "    </tr>\n",
       "    <tr>\n",
       "      <th>1</th>\n",
       "      <td>1313</td>\n",
       "      <td>2018-05-01 06:25:49.4250</td>\n",
       "      <td>2018-05-01 06:47:42.7120</td>\n",
       "      <td>72</td>\n",
       "      <td>40.767272</td>\n",
       "      <td>-73.993929</td>\n",
       "      <td>426</td>\n",
       "      <td>40.717548</td>\n",
       "      <td>-74.013221</td>\n",
       "      <td>18965</td>\n",
       "      <td>Subscriber</td>\n",
       "      <td>1956</td>\n",
       "      <td>1</td>\n",
       "      <td>1.009962</td>\n",
       "    </tr>\n",
       "    <tr>\n",
       "      <th>2</th>\n",
       "      <td>1798</td>\n",
       "      <td>2018-05-01 06:40:26.4450</td>\n",
       "      <td>2018-05-01 07:10:25.1790</td>\n",
       "      <td>72</td>\n",
       "      <td>40.767272</td>\n",
       "      <td>-73.993929</td>\n",
       "      <td>3435</td>\n",
       "      <td>40.718822</td>\n",
       "      <td>-73.995960</td>\n",
       "      <td>30241</td>\n",
       "      <td>Subscriber</td>\n",
       "      <td>1959</td>\n",
       "      <td>2</td>\n",
       "      <td>0.106332</td>\n",
       "    </tr>\n",
       "    <tr>\n",
       "      <th>3</th>\n",
       "      <td>518</td>\n",
       "      <td>2018-05-01 07:06:02.9730</td>\n",
       "      <td>2018-05-01 07:14:41.0040</td>\n",
       "      <td>72</td>\n",
       "      <td>40.767272</td>\n",
       "      <td>-73.993929</td>\n",
       "      <td>477</td>\n",
       "      <td>40.756405</td>\n",
       "      <td>-73.990026</td>\n",
       "      <td>28985</td>\n",
       "      <td>Subscriber</td>\n",
       "      <td>1986</td>\n",
       "      <td>1</td>\n",
       "      <td>0.204253</td>\n",
       "    </tr>\n",
       "    <tr>\n",
       "      <th>4</th>\n",
       "      <td>109</td>\n",
       "      <td>2018-05-01 07:26:32.3450</td>\n",
       "      <td>2018-05-01 07:28:21.5420</td>\n",
       "      <td>72</td>\n",
       "      <td>40.767272</td>\n",
       "      <td>-73.993929</td>\n",
       "      <td>530</td>\n",
       "      <td>40.771522</td>\n",
       "      <td>-73.990541</td>\n",
       "      <td>14556</td>\n",
       "      <td>Subscriber</td>\n",
       "      <td>1991</td>\n",
       "      <td>1</td>\n",
       "      <td>0.177290</td>\n",
       "    </tr>\n",
       "  </tbody>\n",
       "</table>\n",
       "</div>"
      ],
      "text/plain": [
       "   tripduration                 starttime                  stoptime  startID  \\\n",
       "0           367  2018-05-01 05:06:16.5840  2018-05-01 05:12:23.9650       72   \n",
       "1          1313  2018-05-01 06:25:49.4250  2018-05-01 06:47:42.7120       72   \n",
       "2          1798  2018-05-01 06:40:26.4450  2018-05-01 07:10:25.1790       72   \n",
       "3           518  2018-05-01 07:06:02.9730  2018-05-01 07:14:41.0040       72   \n",
       "4           109  2018-05-01 07:26:32.3450  2018-05-01 07:28:21.5420       72   \n",
       "\n",
       "    startlat   startlon  endID     endlat     endlon  bikeid    usertype  \\\n",
       "0  40.767272 -73.993929    514  40.760875 -74.002777   30567  Subscriber   \n",
       "1  40.767272 -73.993929    426  40.717548 -74.013221   18965  Subscriber   \n",
       "2  40.767272 -73.993929   3435  40.718822 -73.995960   30241  Subscriber   \n",
       "3  40.767272 -73.993929    477  40.756405 -73.990026   28985  Subscriber   \n",
       "4  40.767272 -73.993929    530  40.771522 -73.990541   14556  Subscriber   \n",
       "\n",
       "   userbirth  usergender  distance  \n",
       "0       1965           1  0.463048  \n",
       "1       1956           1  1.009962  \n",
       "2       1959           2  0.106332  \n",
       "3       1986           1  0.204253  \n",
       "4       1991           1  0.177290  "
      ]
     },
     "execution_count": 20,
     "metadata": {},
     "output_type": "execute_result"
    }
   ],
   "source": [
    "import numpy as np\n",
    "import math\n",
    "from numpy import cos, sin, arcsin, sqrt\n",
    "from math import radians\n",
    "\n",
    "df['distance'] = 3959 * 2 * np.arcsin(np.sqrt(np.sin((np.radians(df['startlat']) - np.radians(df['startlat']))/2)**2 + np.cos(np.radians(df['endlat'])) * np.cos(np.radians(df['startlat'])) * np.sin((np.radians(df['startlon']) - np.radians(df['endlon']))/2)**2))\n",
    "\n",
    "df.head()"
   ]
  },
  {
   "cell_type": "code",
   "execution_count": 21,
   "id": "3f71d7e5",
   "metadata": {},
   "outputs": [
    {
     "data": {
      "text/plain": [
       "0.0"
      ]
     },
     "execution_count": 21,
     "metadata": {},
     "output_type": "execute_result"
    }
   ],
   "source": [
    "max(df.distance)\n",
    "min(df.distance)"
   ]
  },
  {
   "cell_type": "code",
   "execution_count": 11,
   "id": "1b7f7c96",
   "metadata": {},
   "outputs": [
    {
     "ename": "TypeError",
     "evalue": "haversine() missing 3 required positional arguments: 'lat1', 'lon2', and 'lat2'",
     "output_type": "error",
     "traceback": [
      "\u001b[1;31m---------------------------------------------------------------------------\u001b[0m",
      "\u001b[1;31mTypeError\u001b[0m                                 Traceback (most recent call last)",
      "\u001b[1;32m<ipython-input-11-a13bfa6ffdc3>\u001b[0m in \u001b[0;36m<module>\u001b[1;34m\u001b[0m\n\u001b[0;32m     21\u001b[0m \u001b[1;33m\u001b[0m\u001b[0m\n\u001b[0;32m     22\u001b[0m \u001b[1;31m# latlong_df = df[[\"startlon\", \"startlat\", \"endlon\", \"endlat\"]]\u001b[0m\u001b[1;33m\u001b[0m\u001b[1;33m\u001b[0m\u001b[1;33m\u001b[0m\u001b[0m\n\u001b[1;32m---> 23\u001b[1;33m \u001b[0mdf\u001b[0m\u001b[1;33m[\u001b[0m\u001b[1;34m\"distance\"\u001b[0m\u001b[1;33m]\u001b[0m \u001b[1;33m=\u001b[0m \u001b[0mdf\u001b[0m\u001b[1;33m.\u001b[0m\u001b[0mapply\u001b[0m\u001b[1;33m(\u001b[0m\u001b[1;32mlambda\u001b[0m \u001b[0mrow\u001b[0m\u001b[1;33m:\u001b[0m \u001b[0mhaversine\u001b[0m\u001b[1;33m(\u001b[0m\u001b[0mrow\u001b[0m\u001b[1;33m)\u001b[0m\u001b[1;33m,\u001b[0m \u001b[0maxis\u001b[0m\u001b[1;33m=\u001b[0m\u001b[1;36m1\u001b[0m\u001b[1;33m)\u001b[0m\u001b[1;33m\u001b[0m\u001b[1;33m\u001b[0m\u001b[0m\n\u001b[0m\u001b[0;32m     24\u001b[0m \u001b[0mdf\u001b[0m\u001b[1;33m.\u001b[0m\u001b[0mhead\u001b[0m\u001b[1;33m(\u001b[0m\u001b[1;33m)\u001b[0m\u001b[1;33m\u001b[0m\u001b[1;33m\u001b[0m\u001b[0m\n",
      "\u001b[1;32m~\\anaconda3\\lib\\site-packages\\pandas\\core\\frame.py\u001b[0m in \u001b[0;36mapply\u001b[1;34m(self, func, axis, raw, result_type, args, **kwds)\u001b[0m\n\u001b[0;32m   7766\u001b[0m             \u001b[0mkwds\u001b[0m\u001b[1;33m=\u001b[0m\u001b[0mkwds\u001b[0m\u001b[1;33m,\u001b[0m\u001b[1;33m\u001b[0m\u001b[1;33m\u001b[0m\u001b[0m\n\u001b[0;32m   7767\u001b[0m         )\n\u001b[1;32m-> 7768\u001b[1;33m         \u001b[1;32mreturn\u001b[0m \u001b[0mop\u001b[0m\u001b[1;33m.\u001b[0m\u001b[0mget_result\u001b[0m\u001b[1;33m(\u001b[0m\u001b[1;33m)\u001b[0m\u001b[1;33m\u001b[0m\u001b[1;33m\u001b[0m\u001b[0m\n\u001b[0m\u001b[0;32m   7769\u001b[0m \u001b[1;33m\u001b[0m\u001b[0m\n\u001b[0;32m   7770\u001b[0m     \u001b[1;32mdef\u001b[0m \u001b[0mapplymap\u001b[0m\u001b[1;33m(\u001b[0m\u001b[0mself\u001b[0m\u001b[1;33m,\u001b[0m \u001b[0mfunc\u001b[0m\u001b[1;33m,\u001b[0m \u001b[0mna_action\u001b[0m\u001b[1;33m:\u001b[0m \u001b[0mOptional\u001b[0m\u001b[1;33m[\u001b[0m\u001b[0mstr\u001b[0m\u001b[1;33m]\u001b[0m \u001b[1;33m=\u001b[0m \u001b[1;32mNone\u001b[0m\u001b[1;33m)\u001b[0m \u001b[1;33m->\u001b[0m \u001b[0mDataFrame\u001b[0m\u001b[1;33m:\u001b[0m\u001b[1;33m\u001b[0m\u001b[1;33m\u001b[0m\u001b[0m\n",
      "\u001b[1;32m~\\anaconda3\\lib\\site-packages\\pandas\\core\\apply.py\u001b[0m in \u001b[0;36mget_result\u001b[1;34m(self)\u001b[0m\n\u001b[0;32m    183\u001b[0m             \u001b[1;32mreturn\u001b[0m \u001b[0mself\u001b[0m\u001b[1;33m.\u001b[0m\u001b[0mapply_raw\u001b[0m\u001b[1;33m(\u001b[0m\u001b[1;33m)\u001b[0m\u001b[1;33m\u001b[0m\u001b[1;33m\u001b[0m\u001b[0m\n\u001b[0;32m    184\u001b[0m \u001b[1;33m\u001b[0m\u001b[0m\n\u001b[1;32m--> 185\u001b[1;33m         \u001b[1;32mreturn\u001b[0m \u001b[0mself\u001b[0m\u001b[1;33m.\u001b[0m\u001b[0mapply_standard\u001b[0m\u001b[1;33m(\u001b[0m\u001b[1;33m)\u001b[0m\u001b[1;33m\u001b[0m\u001b[1;33m\u001b[0m\u001b[0m\n\u001b[0m\u001b[0;32m    186\u001b[0m \u001b[1;33m\u001b[0m\u001b[0m\n\u001b[0;32m    187\u001b[0m     \u001b[1;32mdef\u001b[0m \u001b[0mapply_empty_result\u001b[0m\u001b[1;33m(\u001b[0m\u001b[0mself\u001b[0m\u001b[1;33m)\u001b[0m\u001b[1;33m:\u001b[0m\u001b[1;33m\u001b[0m\u001b[1;33m\u001b[0m\u001b[0m\n",
      "\u001b[1;32m~\\anaconda3\\lib\\site-packages\\pandas\\core\\apply.py\u001b[0m in \u001b[0;36mapply_standard\u001b[1;34m(self)\u001b[0m\n\u001b[0;32m    274\u001b[0m \u001b[1;33m\u001b[0m\u001b[0m\n\u001b[0;32m    275\u001b[0m     \u001b[1;32mdef\u001b[0m \u001b[0mapply_standard\u001b[0m\u001b[1;33m(\u001b[0m\u001b[0mself\u001b[0m\u001b[1;33m)\u001b[0m\u001b[1;33m:\u001b[0m\u001b[1;33m\u001b[0m\u001b[1;33m\u001b[0m\u001b[0m\n\u001b[1;32m--> 276\u001b[1;33m         \u001b[0mresults\u001b[0m\u001b[1;33m,\u001b[0m \u001b[0mres_index\u001b[0m \u001b[1;33m=\u001b[0m \u001b[0mself\u001b[0m\u001b[1;33m.\u001b[0m\u001b[0mapply_series_generator\u001b[0m\u001b[1;33m(\u001b[0m\u001b[1;33m)\u001b[0m\u001b[1;33m\u001b[0m\u001b[1;33m\u001b[0m\u001b[0m\n\u001b[0m\u001b[0;32m    277\u001b[0m \u001b[1;33m\u001b[0m\u001b[0m\n\u001b[0;32m    278\u001b[0m         \u001b[1;31m# wrap results\u001b[0m\u001b[1;33m\u001b[0m\u001b[1;33m\u001b[0m\u001b[1;33m\u001b[0m\u001b[0m\n",
      "\u001b[1;32m~\\anaconda3\\lib\\site-packages\\pandas\\core\\apply.py\u001b[0m in \u001b[0;36mapply_series_generator\u001b[1;34m(self)\u001b[0m\n\u001b[0;32m    288\u001b[0m             \u001b[1;32mfor\u001b[0m \u001b[0mi\u001b[0m\u001b[1;33m,\u001b[0m \u001b[0mv\u001b[0m \u001b[1;32min\u001b[0m \u001b[0menumerate\u001b[0m\u001b[1;33m(\u001b[0m\u001b[0mseries_gen\u001b[0m\u001b[1;33m)\u001b[0m\u001b[1;33m:\u001b[0m\u001b[1;33m\u001b[0m\u001b[1;33m\u001b[0m\u001b[0m\n\u001b[0;32m    289\u001b[0m                 \u001b[1;31m# ignore SettingWithCopy here in case the user mutates\u001b[0m\u001b[1;33m\u001b[0m\u001b[1;33m\u001b[0m\u001b[1;33m\u001b[0m\u001b[0m\n\u001b[1;32m--> 290\u001b[1;33m                 \u001b[0mresults\u001b[0m\u001b[1;33m[\u001b[0m\u001b[0mi\u001b[0m\u001b[1;33m]\u001b[0m \u001b[1;33m=\u001b[0m \u001b[0mself\u001b[0m\u001b[1;33m.\u001b[0m\u001b[0mf\u001b[0m\u001b[1;33m(\u001b[0m\u001b[0mv\u001b[0m\u001b[1;33m)\u001b[0m\u001b[1;33m\u001b[0m\u001b[1;33m\u001b[0m\u001b[0m\n\u001b[0m\u001b[0;32m    291\u001b[0m                 \u001b[1;32mif\u001b[0m \u001b[0misinstance\u001b[0m\u001b[1;33m(\u001b[0m\u001b[0mresults\u001b[0m\u001b[1;33m[\u001b[0m\u001b[0mi\u001b[0m\u001b[1;33m]\u001b[0m\u001b[1;33m,\u001b[0m \u001b[0mABCSeries\u001b[0m\u001b[1;33m)\u001b[0m\u001b[1;33m:\u001b[0m\u001b[1;33m\u001b[0m\u001b[1;33m\u001b[0m\u001b[0m\n\u001b[0;32m    292\u001b[0m                     \u001b[1;31m# If we have a view on v, we need to make a copy because\u001b[0m\u001b[1;33m\u001b[0m\u001b[1;33m\u001b[0m\u001b[1;33m\u001b[0m\u001b[0m\n",
      "\u001b[1;32m<ipython-input-11-a13bfa6ffdc3>\u001b[0m in \u001b[0;36m<lambda>\u001b[1;34m(row)\u001b[0m\n\u001b[0;32m     21\u001b[0m \u001b[1;33m\u001b[0m\u001b[0m\n\u001b[0;32m     22\u001b[0m \u001b[1;31m# latlong_df = df[[\"startlon\", \"startlat\", \"endlon\", \"endlat\"]]\u001b[0m\u001b[1;33m\u001b[0m\u001b[1;33m\u001b[0m\u001b[1;33m\u001b[0m\u001b[0m\n\u001b[1;32m---> 23\u001b[1;33m \u001b[0mdf\u001b[0m\u001b[1;33m[\u001b[0m\u001b[1;34m\"distance\"\u001b[0m\u001b[1;33m]\u001b[0m \u001b[1;33m=\u001b[0m \u001b[0mdf\u001b[0m\u001b[1;33m.\u001b[0m\u001b[0mapply\u001b[0m\u001b[1;33m(\u001b[0m\u001b[1;32mlambda\u001b[0m \u001b[0mrow\u001b[0m\u001b[1;33m:\u001b[0m \u001b[0mhaversine\u001b[0m\u001b[1;33m(\u001b[0m\u001b[0mrow\u001b[0m\u001b[1;33m)\u001b[0m\u001b[1;33m,\u001b[0m \u001b[0maxis\u001b[0m\u001b[1;33m=\u001b[0m\u001b[1;36m1\u001b[0m\u001b[1;33m)\u001b[0m\u001b[1;33m\u001b[0m\u001b[1;33m\u001b[0m\u001b[0m\n\u001b[0m\u001b[0;32m     24\u001b[0m \u001b[0mdf\u001b[0m\u001b[1;33m.\u001b[0m\u001b[0mhead\u001b[0m\u001b[1;33m(\u001b[0m\u001b[1;33m)\u001b[0m\u001b[1;33m\u001b[0m\u001b[1;33m\u001b[0m\u001b[0m\n",
      "\u001b[1;31mTypeError\u001b[0m: haversine() missing 3 required positional arguments: 'lat1', 'lon2', and 'lat2'"
     ]
    }
   ],
   "source": [
    "# from math import radians, cos, sin, asin, sqrt\n",
    "# def haversine(lon1, lat1, lon2, lat2):\n",
    "#     \"\"\"\n",
    "#     Calculate the great circle distance between two points \n",
    "#     on the earth (specified in decimal degrees)\n",
    "#     \"\"\"\n",
    "#     lon1 = row[\"startlon\"] \n",
    "#     lat1 = row[\"startlat\"] \n",
    "#     lon2 = row[\"endlon\"]\n",
    "#     lat2 = row[\"endlat\"]    \n",
    "#     # convert decimal degrees to radians \n",
    "#     lon1, lat1, lon2, lat2 = map(radians, [lon1, lat1, lon2, lat2])\n",
    "#     # haversine formula \n",
    "#     dlon = lon2 - lon1 \n",
    "#     dlat = lat2 - lat1 \n",
    "#     a = sin(dlat/2)**2 + cos(lat1) * cos(lat2) * sin(dlon/2)**2\n",
    "#     c = 2 * asin(sqrt(a)) \n",
    "#     # Radius of earth in miles is 3959\n",
    "#     mi = 3959 * c\n",
    "#     return mi\n",
    "\n",
    "# # latlong_df = df[[\"startlon\", \"startlat\", \"endlon\", \"endlat\"]]\n",
    "# df[\"distance\"] = df.apply(lambda row: haversine(row), axis=1)\n",
    "# df.head()"
   ]
  },
  {
   "cell_type": "code",
   "execution_count": 1,
   "id": "28b571d9",
   "metadata": {},
   "outputs": [],
   "source": [
    "citi = pd.read_parquet('data/selection/citi_full.parquet')"
   ]
  },
  {
   "cell_type": "code",
   "execution_count": 2,
   "id": "44e56b83",
   "metadata": {},
   "outputs": [
    {
     "data": {
      "text/html": [
       "<div>\n",
       "<style scoped>\n",
       "    .dataframe tbody tr th:only-of-type {\n",
       "        vertical-align: middle;\n",
       "    }\n",
       "\n",
       "    .dataframe tbody tr th {\n",
       "        vertical-align: top;\n",
       "    }\n",
       "\n",
       "    .dataframe thead th {\n",
       "        text-align: right;\n",
       "    }\n",
       "</style>\n",
       "<table border=\"1\" class=\"dataframe\">\n",
       "  <thead>\n",
       "    <tr style=\"text-align: right;\">\n",
       "      <th></th>\n",
       "      <th>bikeid</th>\n",
       "      <th>birth year</th>\n",
       "      <th>end station id</th>\n",
       "      <th>end station latitude</th>\n",
       "      <th>end station longitude</th>\n",
       "      <th>gender</th>\n",
       "      <th>start station id</th>\n",
       "      <th>start station latitude</th>\n",
       "      <th>start station longitude</th>\n",
       "      <th>starttime</th>\n",
       "      <th>stoptime</th>\n",
       "      <th>tripduration</th>\n",
       "      <th>usertype</th>\n",
       "    </tr>\n",
       "  </thead>\n",
       "  <tbody>\n",
       "    <tr>\n",
       "      <th>0</th>\n",
       "      <td>31956</td>\n",
       "      <td>1992</td>\n",
       "      <td>505.0</td>\n",
       "      <td>40.749013</td>\n",
       "      <td>-73.988484</td>\n",
       "      <td>1</td>\n",
       "      <td>72.0</td>\n",
       "      <td>40.767272</td>\n",
       "      <td>-73.993929</td>\n",
       "      <td>2018-01-01 13:50:57.4340</td>\n",
       "      <td>2018-01-01 14:07:08.1860</td>\n",
       "      <td>970</td>\n",
       "      <td>Subscriber</td>\n",
       "    </tr>\n",
       "    <tr>\n",
       "      <th>1</th>\n",
       "      <td>32536</td>\n",
       "      <td>1969</td>\n",
       "      <td>3255.0</td>\n",
       "      <td>40.750585</td>\n",
       "      <td>-73.994685</td>\n",
       "      <td>1</td>\n",
       "      <td>72.0</td>\n",
       "      <td>40.767272</td>\n",
       "      <td>-73.993929</td>\n",
       "      <td>2018-01-01 15:33:30.1820</td>\n",
       "      <td>2018-01-01 15:45:33.3410</td>\n",
       "      <td>723</td>\n",
       "      <td>Subscriber</td>\n",
       "    </tr>\n",
       "    <tr>\n",
       "      <th>2</th>\n",
       "      <td>16069</td>\n",
       "      <td>1956</td>\n",
       "      <td>525.0</td>\n",
       "      <td>40.755942</td>\n",
       "      <td>-74.002116</td>\n",
       "      <td>1</td>\n",
       "      <td>72.0</td>\n",
       "      <td>40.767272</td>\n",
       "      <td>-73.993929</td>\n",
       "      <td>2018-01-01 15:39:18.3370</td>\n",
       "      <td>2018-01-01 15:47:35.1720</td>\n",
       "      <td>496</td>\n",
       "      <td>Subscriber</td>\n",
       "    </tr>\n",
       "    <tr>\n",
       "      <th>3</th>\n",
       "      <td>31781</td>\n",
       "      <td>1974</td>\n",
       "      <td>447.0</td>\n",
       "      <td>40.763707</td>\n",
       "      <td>-73.985162</td>\n",
       "      <td>1</td>\n",
       "      <td>72.0</td>\n",
       "      <td>40.767272</td>\n",
       "      <td>-73.993929</td>\n",
       "      <td>2018-01-01 15:40:13.3720</td>\n",
       "      <td>2018-01-01 15:45:20.1910</td>\n",
       "      <td>306</td>\n",
       "      <td>Subscriber</td>\n",
       "    </tr>\n",
       "    <tr>\n",
       "      <th>4</th>\n",
       "      <td>30319</td>\n",
       "      <td>1992</td>\n",
       "      <td>3356.0</td>\n",
       "      <td>40.774667</td>\n",
       "      <td>-73.984706</td>\n",
       "      <td>1</td>\n",
       "      <td>72.0</td>\n",
       "      <td>40.767272</td>\n",
       "      <td>-73.993929</td>\n",
       "      <td>2018-01-01 18:14:51.5680</td>\n",
       "      <td>2018-01-01 18:19:57.6420</td>\n",
       "      <td>306</td>\n",
       "      <td>Subscriber</td>\n",
       "    </tr>\n",
       "  </tbody>\n",
       "</table>\n",
       "</div>"
      ],
      "text/plain": [
       "   bikeid  birth year  end station id  end station latitude  \\\n",
       "0   31956        1992           505.0             40.749013   \n",
       "1   32536        1969          3255.0             40.750585   \n",
       "2   16069        1956           525.0             40.755942   \n",
       "3   31781        1974           447.0             40.763707   \n",
       "4   30319        1992          3356.0             40.774667   \n",
       "\n",
       "   end station longitude  gender  start station id  start station latitude  \\\n",
       "0             -73.988484       1              72.0               40.767272   \n",
       "1             -73.994685       1              72.0               40.767272   \n",
       "2             -74.002116       1              72.0               40.767272   \n",
       "3             -73.985162       1              72.0               40.767272   \n",
       "4             -73.984706       1              72.0               40.767272   \n",
       "\n",
       "   start station longitude                 starttime  \\\n",
       "0               -73.993929  2018-01-01 13:50:57.4340   \n",
       "1               -73.993929  2018-01-01 15:33:30.1820   \n",
       "2               -73.993929  2018-01-01 15:39:18.3370   \n",
       "3               -73.993929  2018-01-01 15:40:13.3720   \n",
       "4               -73.993929  2018-01-01 18:14:51.5680   \n",
       "\n",
       "                   stoptime  tripduration    usertype  \n",
       "0  2018-01-01 14:07:08.1860           970  Subscriber  \n",
       "1  2018-01-01 15:45:33.3410           723  Subscriber  \n",
       "2  2018-01-01 15:47:35.1720           496  Subscriber  \n",
       "3  2018-01-01 15:45:20.1910           306  Subscriber  \n",
       "4  2018-01-01 18:19:57.6420           306  Subscriber  "
      ]
     },
     "execution_count": 2,
     "metadata": {},
     "output_type": "execute_result"
    }
   ],
   "source": [
    "citi.head()"
   ]
  },
  {
   "cell_type": "code",
   "execution_count": 5,
   "id": "b761b565",
   "metadata": {},
   "outputs": [
    {
     "name": "stdout",
     "output_type": "stream",
     "text": [
      "<class 'pandas.core.frame.DataFrame'>\n",
      "RangeIndex: 56061119 entries, 0 to 56061118\n",
      "Data columns (total 13 columns):\n",
      " #   Column                   Dtype  \n",
      "---  ------                   -----  \n",
      " 0   bikeid                   int64  \n",
      " 1   birth year               int64  \n",
      " 2   end station id           float64\n",
      " 3   end station latitude     float64\n",
      " 4   end station longitude    float64\n",
      " 5   gender                   int64  \n",
      " 6   start station id         float64\n",
      " 7   start station latitude   float64\n",
      " 8   start station longitude  float64\n",
      " 9   starttime                object \n",
      " 10  stoptime                 object \n",
      " 11  tripduration             int64  \n",
      " 12  usertype                 object \n",
      "dtypes: float64(6), int64(4), object(3)\n",
      "memory usage: 5.4+ GB\n"
     ]
    }
   ],
   "source": [
    "citi.info()"
   ]
  },
  {
   "cell_type": "code",
   "execution_count": 19,
   "id": "0234adec",
   "metadata": {},
   "outputs": [],
   "source": [
    "from datetime import datetime, timedelta\n",
    "%timeit \n",
    "citi['birthyear'] = citi['birth year'].astype(int)\n",
    "citi['duration'] = list(map(lambda x: str(timedelta(seconds=x)), citi['tripduration']))"
   ]
  },
  {
   "cell_type": "code",
   "execution_count": 20,
   "id": "2ed3c0fd",
   "metadata": {},
   "outputs": [],
   "source": [
    "# citi.plot.scatter(x='birthyear',y='tripduration')\n",
    "# citi.plot.scatter(x='birthyear',y='duration')"
   ]
  },
  {
   "cell_type": "code",
   "execution_count": null,
   "id": "927a2e3b",
   "metadata": {},
   "outputs": [],
   "source": [
    "citi['starttime'] = list(map(lambda x: pd.to_datetime(x,'coerce','%Y/%m/%d %H:%M:%S'), citi['starttime']))"
   ]
  },
  {
   "cell_type": "code",
   "execution_count": null,
   "id": "fa49a9bc",
   "metadata": {},
   "outputs": [],
   "source": [
    "citi['starttime'] = list(map(lambda x: datetime.strptime(x, '%Y/%m/%d %H*:%M:%S'), citi['starttime']))\n",
    "citi['DoW'] = citi['starttime'].dt.day_of_week"
   ]
  },
  {
   "cell_type": "code",
   "execution_count": null,
   "id": "0cade628",
   "metadata": {},
   "outputs": [],
   "source": [
    "# citi['Month'] = \n",
    "# citi['Year'] = \n",
    "# citi['Rush']\n",
    "# citi_df.drop(['birth year','tripduration'])\n",
    "citi.head()"
   ]
  },
  {
   "cell_type": "code",
   "execution_count": null,
   "id": "a987fea1",
   "metadata": {},
   "outputs": [],
   "source": [
    ".citi_df.groupby('usertype')['usertype'].value_counts().plot.bar()\n",
    "# citi_df.groupby('usertype')['usertype'].value_counts().plot.pie()"
   ]
  },
  {
   "cell_type": "code",
   "execution_count": null,
   "id": "43691c1a",
   "metadata": {},
   "outputs": [],
   "source": [
    "citi_df.head()"
   ]
  },
  {
   "cell_type": "code",
   "execution_count": null,
   "id": "113e9152",
   "metadata": {},
   "outputs": [],
   "source": [
    "## CONVERT TIMESTAMP TO DATETIME OBJECT ##\n",
    "import datetime\n",
    "\n",
    "type(citi_df['birth year'])"
   ]
  },
  {
   "cell_type": "code",
   "execution_count": null,
   "id": "34417cb3",
   "metadata": {},
   "outputs": [],
   "source": [
    "## CREATE 'AGE' FEATURE ## \n",
    "citi_df['Year'] = \n",
    "citi_df['Month'] =  \n",
    "citi_df['Day'] = \n",
    "citi_df['Age'] = citi_df['Date']"
   ]
  },
  {
   "cell_type": "code",
   "execution_count": null,
   "id": "b9d5d707",
   "metadata": {},
   "outputs": [],
   "source": [
    "df = pd.read_csv('201911-citibike-tripdata.csv')\n",
    "df.columns.str.lower()\n",
    "df = df.drop(['start station name','end station name','unnamed: 0'], errors='ignore', axis=1)\n",
    "list(df.columns) == ['tripduration', 'starttime', 'stoptime', 'start station id',\n",
    "                      'start station latitude','start station longitude', 'end station id', \n",
    "                      'end station latitude', 'end station longitude', 'bikeid', \n",
    "                      'usertype','birth year', 'gender']\n",
    "# df.columns"
   ]
  },
  {
   "cell_type": "code",
   "execution_count": null,
   "id": "08d8a4b5",
   "metadata": {},
   "outputs": [],
   "source": [
    "pd.read_parquet('201911-citibike-tripdata.parquet').head()"
   ]
  },
  {
   "cell_type": "code",
   "execution_count": null,
   "id": "1bebb50e",
   "metadata": {},
   "outputs": [],
   "source": [
    "citi_df.shape()"
   ]
  },
  {
   "cell_type": "code",
   "execution_count": null,
   "id": "c842dff4",
   "metadata": {},
   "outputs": [],
   "source": [
    "citi_df.head()"
   ]
  },
  {
   "cell_type": "code",
   "execution_count": null,
   "id": "09194023",
   "metadata": {},
   "outputs": [],
   "source": [
    "citi_df.to_csv('./data/CitiBikeFull.csv')"
   ]
  },
  {
   "cell_type": "markdown",
   "id": "0870d19b",
   "metadata": {},
   "source": [
    "**To get items onto BigQuery** (Charles)\n",
    "- for loop to clean / null impute\n",
    "- upload to google cloud\n",
    "- big query\n"
   ]
  },
  {
   "cell_type": "code",
   "execution_count": null,
   "id": "42aa1fd5",
   "metadata": {},
   "outputs": [],
   "source": []
  },
  {
   "cell_type": "code",
   "execution_count": null,
   "id": "8a84360a",
   "metadata": {},
   "outputs": [],
   "source": []
  },
  {
   "cell_type": "code",
   "execution_count": null,
   "id": "af19fa0f",
   "metadata": {},
   "outputs": [],
   "source": [
    "citi_df.to_csv('/data/CitiBikeClean.csv')"
   ]
  },
  {
   "cell_type": "markdown",
   "id": "68e7363e",
   "metadata": {},
   "source": [
    "### Feature Selection\n",
    "- Drop: station names, bike id\n",
    "- Transform: Age, Duration, Distance "
   ]
  },
  {
   "cell_type": "code",
   "execution_count": null,
   "id": "2fc38d7c",
   "metadata": {},
   "outputs": [],
   "source": []
  },
  {
   "cell_type": "code",
   "execution_count": null,
   "id": "73e7e069",
   "metadata": {},
   "outputs": [],
   "source": []
  }
 ],
 "metadata": {
  "kernelspec": {
   "display_name": "Python 3",
   "language": "python",
   "name": "python3"
  },
  "language_info": {
   "codemirror_mode": {
    "name": "ipython",
    "version": 3
   },
   "file_extension": ".py",
   "mimetype": "text/x-python",
   "name": "python",
   "nbconvert_exporter": "python",
   "pygments_lexer": "ipython3",
   "version": "3.8.8"
  }
 },
 "nbformat": 4,
 "nbformat_minor": 5
}
